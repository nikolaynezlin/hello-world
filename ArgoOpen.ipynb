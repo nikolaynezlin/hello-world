{
 "cells": [
  {
   "cell_type": "code",
   "execution_count": 50,
   "metadata": {},
   "outputs": [],
   "source": [
    "# from ipyfilechooser import FileChooser\n",
    "from netCDF4 import Dataset\n",
    "import numpy.ma as ma\n",
    "import numpy as np\n",
    "from ipyleaflet import Polyline, Map, Marker, basemap_to_tiles, basemaps, AwesomeIcon"
   ]
  },
  {
   "cell_type": "code",
   "execution_count": 51,
   "metadata": {},
   "outputs": [],
   "source": [
    "# Select Argo file\n",
    "# projDir = 'Argo_data/'\n",
    "# fc = FileChooser(projDir)\n",
    "# display(fc)"
   ]
  },
  {
   "cell_type": "code",
   "execution_count": 52,
   "metadata": {},
   "outputs": [],
   "source": [
    "# argo_fn = fc.selected\n",
    "argo_fn = 'Argo_data//2902730_prof.nc'"
   ]
  },
  {
   "cell_type": "code",
   "execution_count": 53,
   "metadata": {},
   "outputs": [],
   "source": [
    "# Open NetCDF Argo file\n",
    "nc_fid = Dataset(argo_fn,'r')\n",
    "vars = nc_fid.variables.keys()\n",
    "# display(vars)"
   ]
  },
  {
   "cell_type": "code",
   "execution_count": 54,
   "metadata": {},
   "outputs": [],
   "source": [
    "lat = nc_fid.variables['LATITUDE'][:]\n",
    "lon = nc_fid.variables['LONGITUDE'][:]\n",
    "dateJD = nc_fid.variables['JULD'][:]\n",
    "date_ref = nc_fid.variables['REFERENCE_DATE_TIME'][:]\n",
    "nc_fid.close()"
   ]
  },
  {
   "cell_type": "code",
   "execution_count": 55,
   "metadata": {},
   "outputs": [],
   "source": [
    "# Reference datetime\n",
    "dd=date_ref.tobytes()\n",
    "dd=dd.decode('utf-8')\n",
    "ddnp = np.datetime64(dd[0:4]+'-'+dd[4:6]+'-'+dd[6:8]+'T'+dd[8:10]+':'+dd[10:12]+':'+dd[12:14])\n",
    "# print(ddnp)"
   ]
  },
  {
   "cell_type": "code",
   "execution_count": 56,
   "metadata": {},
   "outputs": [],
   "source": [
    "date = ddnp + np.array(dateJD//1,dtype='timedelta64[D]') + np.array((dateJD%1)*24*60*60,dtype='timedelta64[s]')\n",
    "# date"
   ]
  },
  {
   "cell_type": "code",
   "execution_count": 57,
   "metadata": {},
   "outputs": [],
   "source": [
    "nProf = lat.count()\n",
    "# nProf"
   ]
  },
  {
   "cell_type": "code",
   "execution_count": 58,
   "metadata": {},
   "outputs": [],
   "source": [
    "latitude = lat.reshape(nProf,1)\n",
    "longitude = lon.reshape(nProf,1)\n",
    "coords = ma.concatenate([latitude, longitude],axis=1)\n",
    "# display(coords)"
   ]
  },
  {
   "cell_type": "code",
   "execution_count": 59,
   "metadata": {},
   "outputs": [],
   "source": [
    "argoTraj_line = Polyline(\n",
    "    locations=coords.tolist(),\n",
    "    color=\"black\" ,\n",
    "    fill=False,\n",
    "    weight=3\n",
    ")"
   ]
  },
  {
   "cell_type": "code",
   "execution_count": 62,
   "metadata": {},
   "outputs": [
    {
     "data": {
      "application/vnd.jupyter.widget-view+json": {
       "model_id": "086dd9d87a814d8d85eee1c0a54b0ecb",
       "version_major": 2,
       "version_minor": 0
      },
      "text/plain": [
       "Map(center=[12.967607843137257, 127.63063725490196], controls=(ZoomControl(options=['position', 'zoom_in_text'…"
      ]
     },
     "metadata": {},
     "output_type": "display_data"
    }
   ],
   "source": [
    "from ipywidgets import Label\n",
    "label = Label()\n",
    "# display(label)\n",
    "def handle_interaction(**kwargs):\n",
    "    if kwargs.get('type') == 'mousemove':\n",
    "        m_coords = kwargs.get('coordinates')\n",
    "        m_coords[0] = round(m_coords[0],5)\n",
    "        m_coords[1] = round(m_coords[1],5)\n",
    "        label.value = str(m_coords[0])+'  '+str(m_coords[1])\n",
    "\n",
    "#\n",
    "center = (lat.mean(), lon.mean())\n",
    "m = Map(basemap=basemap_to_tiles(basemaps.Esri.NatGeoWorldMap), center=center, zoom=5)\n",
    "m.add_layer(argoTraj_line);\n",
    "for i in range(0,nProf):\n",
    "    marker = Marker(location = coords[i].tolist(),draggable=False)\n",
    "    marker.title = 'Profile '+str(i+1)+'\\n'+str(date[i])\n",
    "    marker.rise_on_hover = True\n",
    "    marker.icon = AwesomeIcon(name='share',marker_color='beige',icon_color='black',spin=False)\n",
    "    m.add_layer(marker)\n",
    "m.layout.width = '100%'\n",
    "m.layout.height = '500px'\n",
    "# m.on_interaction(handle_interaction)\n",
    "display(m)"
   ]
  },
  {
   "cell_type": "code",
   "execution_count": null,
   "metadata": {},
   "outputs": [],
   "source": []
  }
 ],
 "metadata": {
  "kernelspec": {
   "display_name": "Python 3",
   "language": "python",
   "name": "python3"
  },
  "language_info": {
   "codemirror_mode": {
    "name": "ipython",
    "version": 3
   },
   "file_extension": ".py",
   "mimetype": "text/x-python",
   "name": "python",
   "nbconvert_exporter": "python",
   "pygments_lexer": "ipython3",
   "version": "3.8.3"
  }
 },
 "nbformat": 4,
 "nbformat_minor": 4
}
