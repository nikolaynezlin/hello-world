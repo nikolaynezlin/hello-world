{
 "cells": [
  {
   "cell_type": "code",
   "execution_count": 1,
   "metadata": {},
   "outputs": [
    {
     "ename": "ModuleNotFoundError",
     "evalue": "No module named 'ipyfilechooser'",
     "output_type": "error",
     "traceback": [
      "\u001b[1;31m---------------------------------------------------------------------------\u001b[0m",
      "\u001b[1;31mModuleNotFoundError\u001b[0m                       Traceback (most recent call last)",
      "\u001b[1;32m<ipython-input-1-dd4d3710fbcd>\u001b[0m in \u001b[0;36m<module>\u001b[1;34m\u001b[0m\n\u001b[1;32m----> 1\u001b[1;33m \u001b[1;32mfrom\u001b[0m \u001b[0mipyfilechooser\u001b[0m \u001b[1;32mimport\u001b[0m \u001b[0mFileChooser\u001b[0m\u001b[1;33m\u001b[0m\u001b[1;33m\u001b[0m\u001b[0m\n\u001b[0m\u001b[0;32m      2\u001b[0m \u001b[1;32mfrom\u001b[0m \u001b[0mnetCDF4\u001b[0m \u001b[1;32mimport\u001b[0m \u001b[0mDataset\u001b[0m\u001b[1;33m\u001b[0m\u001b[1;33m\u001b[0m\u001b[0m\n\u001b[0;32m      3\u001b[0m \u001b[1;32mimport\u001b[0m \u001b[0mnumpy\u001b[0m\u001b[1;33m.\u001b[0m\u001b[0mma\u001b[0m \u001b[1;32mas\u001b[0m \u001b[0mma\u001b[0m\u001b[1;33m\u001b[0m\u001b[1;33m\u001b[0m\u001b[0m\n\u001b[0;32m      4\u001b[0m \u001b[1;32mimport\u001b[0m \u001b[0mnumpy\u001b[0m \u001b[1;32mas\u001b[0m \u001b[0mnp\u001b[0m\u001b[1;33m\u001b[0m\u001b[1;33m\u001b[0m\u001b[0m\n\u001b[0;32m      5\u001b[0m \u001b[1;32mfrom\u001b[0m \u001b[0mipyleaflet\u001b[0m \u001b[1;32mimport\u001b[0m \u001b[0mPolyline\u001b[0m\u001b[1;33m,\u001b[0m \u001b[0mMap\u001b[0m\u001b[1;33m,\u001b[0m \u001b[0mMarker\u001b[0m\u001b[1;33m,\u001b[0m \u001b[0mbasemap_to_tiles\u001b[0m\u001b[1;33m,\u001b[0m \u001b[0mbasemaps\u001b[0m\u001b[1;33m,\u001b[0m \u001b[0mAwesomeIcon\u001b[0m\u001b[1;33m\u001b[0m\u001b[1;33m\u001b[0m\u001b[0m\n",
      "\u001b[1;31mModuleNotFoundError\u001b[0m: No module named 'ipyfilechooser'"
     ]
    }
   ],
   "source": [
    "from ipyfilechooser import FileChooser\n",
    "from netCDF4 import Dataset\n",
    "import numpy.ma as ma\n",
    "import numpy as np\n",
    "from ipyleaflet import Polyline, Map, Marker, basemap_to_tiles, basemaps, AwesomeIcon"
   ]
  },
  {
   "cell_type": "code",
   "execution_count": null,
   "metadata": {},
   "outputs": [],
   "source": [
    "# Select Argo file\n",
    "# projDir = 'Argo_data/'\n",
    "# fc = FileChooser(projDir)\n",
    "# display(fc)"
   ]
  },
  {
   "cell_type": "code",
   "execution_count": null,
   "metadata": {},
   "outputs": [],
   "source": [
    "# argo_fn = fc.selected\n",
    "argo_fn = 'Argo_data//2902730_prof.nc'"
   ]
  },
  {
   "cell_type": "code",
   "execution_count": null,
   "metadata": {},
   "outputs": [],
   "source": [
    "type(argo_fn)"
   ]
  },
  {
   "cell_type": "code",
   "execution_count": null,
   "metadata": {},
   "outputs": [],
   "source": [
    "# Open NetCDF Argo file\n",
    "nc_fid = Dataset(argo_fn,'r')\n",
    "vars = nc_fid.variables.keys()\n",
    "# vars"
   ]
  },
  {
   "cell_type": "code",
   "execution_count": null,
   "metadata": {},
   "outputs": [],
   "source": [
    "lat = nc_fid.variables['LATITUDE'][:]\n",
    "lon = nc_fid.variables['LONGITUDE'][:]\n",
    "dateJD = nc_fid.variables['JULD'][:]\n",
    "date_ref = nc_fid.variables['REFERENCE_DATE_TIME'][:]\n",
    "nc_fid.close()"
   ]
  },
  {
   "cell_type": "code",
   "execution_count": null,
   "metadata": {},
   "outputs": [],
   "source": [
    "# Reference datetime\n",
    "dd=date_ref.tobytes()\n",
    "dd=dd.decode('utf-8')\n",
    "ddnp = np.datetime64(dd[0:4]+'-'+dd[4:6]+'-'+dd[6:8]+'T'+dd[8:10]+':'+dd[10:12]+':'+dd[12:14])\n",
    "print(ddnp)"
   ]
  },
  {
   "cell_type": "code",
   "execution_count": null,
   "metadata": {},
   "outputs": [],
   "source": [
    "date = ddnp + np.array(dateJD//1,dtype='timedelta64[D]') + np.array((dateJD%1)*24*60*60,dtype='timedelta64[s]')\n",
    "# date"
   ]
  },
  {
   "cell_type": "code",
   "execution_count": null,
   "metadata": {},
   "outputs": [],
   "source": [
    "nProf = lat.count()\n",
    "# nProf"
   ]
  },
  {
   "cell_type": "code",
   "execution_count": null,
   "metadata": {},
   "outputs": [],
   "source": [
    "latitude = lat.reshape(nProf,1)\n",
    "longitude = lon.reshape(nProf,1)\n",
    "coords = ma.concatenate([latitude, longitude],axis=1)\n",
    "# coords"
   ]
  },
  {
   "cell_type": "code",
   "execution_count": null,
   "metadata": {},
   "outputs": [],
   "source": [
    "argoTraj_line = Polyline(\n",
    "    locations=coords.tolist(),\n",
    "    color=\"black\" ,\n",
    "    fill=False,\n",
    "    weight=3\n",
    ")"
   ]
  },
  {
   "cell_type": "code",
   "execution_count": null,
   "metadata": {},
   "outputs": [],
   "source": [
    "from ipywidgets import Label\n",
    "label = Label()\n",
    "display(label)\n",
    "def handle_interaction(**kwargs):\n",
    "    if kwargs.get('type') == 'mousemove':\n",
    "        m_coords = kwargs.get('coordinates')\n",
    "        m_coords[0] = round(m_coords[0],5)\n",
    "        m_coords[1] = round(m_coords[1],5)\n",
    "        label.value = str(m_coords[0])+'  '+str(m_coords[1])\n",
    "\n",
    "#\n",
    "center = (lat.mean(), lon.mean())\n",
    "m = Map(basemap=basemap_to_tiles(basemaps.Esri.NatGeoWorldMap), center=center, zoom=5)\n",
    "m.add_layer(argoTraj_line);\n",
    "for i in range(0,nProf):\n",
    "    marker = Marker(location = coords[i].tolist(),draggable=False)\n",
    "    marker.title = 'Profile '+str(i+1)+'\\n'+str(date[i])\n",
    "    marker.rise_on_hover = True\n",
    "    marker.icon = AwesomeIcon(name='share',marker_color='beige',icon_color='black',spin=False)\n",
    "    m.add_layer(marker)\n",
    "m.layout.width = '100%'\n",
    "m.layout.height = '500px'\n",
    "m.on_interaction(handle_interaction)\n",
    "m"
   ]
  },
  {
   "cell_type": "code",
   "execution_count": null,
   "metadata": {},
   "outputs": [],
   "source": []
  }
 ],
 "metadata": {
  "kernelspec": {
   "display_name": "Python 3",
   "language": "python",
   "name": "python3"
  },
  "language_info": {
   "codemirror_mode": {
    "name": "ipython",
    "version": 3
   },
   "file_extension": ".py",
   "mimetype": "text/x-python",
   "name": "python",
   "nbconvert_exporter": "python",
   "pygments_lexer": "ipython3",
   "version": "3.7.6"
  }
 },
 "nbformat": 4,
 "nbformat_minor": 4
}
