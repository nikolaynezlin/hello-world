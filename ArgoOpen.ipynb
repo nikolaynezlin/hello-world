{
 "cells": [
  {
   "cell_type": "code",
   "execution_count": 25,
   "metadata": {},
   "outputs": [],
   "source": [
    "# from ipyfilechooser import FileChooser\n",
    "from netCDF4 import Dataset\n",
    "import numpy.ma as ma\n",
    "import numpy as np\n",
    "from ipyleaflet import Polyline, Map, Marker, basemap_to_tiles, basemaps, AwesomeIcon"
   ]
  },
  {
   "cell_type": "code",
   "execution_count": 26,
   "metadata": {},
   "outputs": [],
   "source": [
    "# Select Argo file\n",
    "# projDir = 'Argo_data/'\n",
    "# fc = FileChooser(projDir)\n",
    "# display(fc)"
   ]
  },
  {
   "cell_type": "code",
   "execution_count": 27,
   "metadata": {},
   "outputs": [],
   "source": [
    "# argo_fn = fc.selected\n",
    "argo_fn = 'Argo_data//2902730_prof.nc'"
   ]
  },
  {
   "cell_type": "code",
   "execution_count": 36,
   "metadata": {},
   "outputs": [],
   "source": [
    "# Open NetCDF Argo file\n",
    "nc_fid = Dataset(argo_fn,'r')\n",
    "vars = nc_fid.variables.keys()\n",
    "# display(vars)"
   ]
  },
  {
   "cell_type": "code",
   "execution_count": 29,
   "metadata": {},
   "outputs": [],
   "source": [
    "lat = nc_fid.variables['LATITUDE'][:]\n",
    "lon = nc_fid.variables['LONGITUDE'][:]\n",
    "dateJD = nc_fid.variables['JULD'][:]\n",
    "date_ref = nc_fid.variables['REFERENCE_DATE_TIME'][:]\n",
    "nc_fid.close()"
   ]
  },
  {
   "cell_type": "code",
   "execution_count": 30,
   "metadata": {},
   "outputs": [
    {
     "name": "stdout",
     "output_type": "stream",
     "text": [
      "1950-01-01T00:00:00\n"
     ]
    }
   ],
   "source": [
    "# Reference datetime\n",
    "dd=date_ref.tobytes()\n",
    "dd=dd.decode('utf-8')\n",
    "ddnp = np.datetime64(dd[0:4]+'-'+dd[4:6]+'-'+dd[6:8]+'T'+dd[8:10]+':'+dd[10:12]+':'+dd[12:14])\n",
    "# print(ddnp)"
   ]
  },
  {
   "cell_type": "code",
   "execution_count": 31,
   "metadata": {},
   "outputs": [],
   "source": [
    "date = ddnp + np.array(dateJD//1,dtype='timedelta64[D]') + np.array((dateJD%1)*24*60*60,dtype='timedelta64[s]')\n",
    "# date"
   ]
  },
  {
   "cell_type": "code",
   "execution_count": 32,
   "metadata": {},
   "outputs": [],
   "source": [
    "nProf = lat.count()\n",
    "# nProf"
   ]
  },
  {
   "cell_type": "code",
   "execution_count": 37,
   "metadata": {},
   "outputs": [
    {
     "data": {
      "text/plain": [
       "masked_array(\n",
       "  data=[[ 12.003, 130.016],\n",
       "        [ 12.836, 130.533],\n",
       "        [ 13.351, 131.222],\n",
       "        [ 12.74 , 131.426],\n",
       "        [ 12.169, 131.459],\n",
       "        [ 11.513, 131.998],\n",
       "        [ 11.433, 132.603],\n",
       "        [ 11.499, 132.688],\n",
       "        [ 11.539, 132.585],\n",
       "        [ 11.552, 132.071],\n",
       "        [ 11.859, 131.436],\n",
       "        [ 11.975, 130.887],\n",
       "        [ 12.111, 130.151],\n",
       "        [ 12.208, 130.061],\n",
       "        [ 11.927, 130.025],\n",
       "        [ 12.156, 129.157],\n",
       "        [ 12.392, 128.87 ],\n",
       "        [ 12.33 , 128.865],\n",
       "        [ 12.038, 128.611],\n",
       "        [ 11.942, 128.031],\n",
       "        [ 11.532, 127.047],\n",
       "        [ 11.064, 126.649],\n",
       "        [ 10.06 , 126.644],\n",
       "        [  8.907, 126.875],\n",
       "        [  9.705, 127.115],\n",
       "        [  9.325, 126.828],\n",
       "        [  9.712, 127.297],\n",
       "        [  9.782, 127.32 ],\n",
       "        [ 10.216, 127.806],\n",
       "        [ 10.604, 127.654],\n",
       "        [ 10.669, 127.129],\n",
       "        [ 10.581, 127.025],\n",
       "        [ 10.85 , 127.02 ],\n",
       "        [ 11.   , 126.811],\n",
       "        [ 10.39 , 126.569],\n",
       "        [  9.861, 127.09 ],\n",
       "        [ 11.085, 127.278],\n",
       "        [ 10.473, 126.504],\n",
       "        [ 10.18 , 126.703],\n",
       "        [ 11.067, 126.18 ],\n",
       "        [ 11.37 , 125.871],\n",
       "        [ 11.784, 125.815],\n",
       "        [ 12.403, 125.917],\n",
       "        [ 13.511, 126.433],\n",
       "        [ 14.456, 126.344],\n",
       "        [ 14.682, 126.732],\n",
       "        [ 13.83 , 126.69 ],\n",
       "        [ 12.997, 126.392],\n",
       "        [ 12.319, 126.233],\n",
       "        [ 11.94 , 126.572],\n",
       "        [ 12.464, 126.483],\n",
       "        [ 13.353, 126.295],\n",
       "        [ 13.928, 126.316],\n",
       "        [ 13.446, 126.29 ],\n",
       "        [ 12.987, 126.357],\n",
       "        [ 13.073, 126.84 ],\n",
       "        [ 13.761, 127.433],\n",
       "        [ 14.526, 127.657],\n",
       "        [ 14.7  , 127.891],\n",
       "        [ 14.471, 128.062],\n",
       "        [ 14.057, 128.172],\n",
       "        [ 14.41 , 128.199],\n",
       "        [ 14.962, 127.367],\n",
       "        [ 15.04 , 127.   ],\n",
       "        [ 14.809, 126.965],\n",
       "        [ 15.225, 126.524],\n",
       "        [ 16.241, 126.609],\n",
       "        [ 15.858, 127.255],\n",
       "        [ 15.159, 126.869],\n",
       "        [ 14.832, 126.671],\n",
       "        [ 15.405, 125.663],\n",
       "        [ 15.447, 125.641],\n",
       "        [ 15.148, 125.715],\n",
       "        [ 14.972, 124.919],\n",
       "        [ 15.331, 123.982],\n",
       "        [ 16.052, 123.923],\n",
       "        [ 15.384, 124.593],\n",
       "        [ 15.173, 124.076],\n",
       "        [ 14.806, 124.664],\n",
       "        [ 14.371, 125.282],\n",
       "        [ 14.584, 125.866],\n",
       "        [ 14.92 , 126.154],\n",
       "        [ 14.385, 126.41 ],\n",
       "        [ 13.882, 127.389],\n",
       "        [ 13.824, 126.913],\n",
       "        [ 13.742, 126.53 ],\n",
       "        [ 13.567, 126.851],\n",
       "        [ 13.23 , 127.571],\n",
       "        [ 12.538, 128.332],\n",
       "        [ 12.006, 128.817],\n",
       "        [ 12.22 , 128.944],\n",
       "        [ 12.936, 128.844],\n",
       "        [ 13.854, 128.596],\n",
       "        [ 14.457, 128.196],\n",
       "        [ 14.723, 127.98 ],\n",
       "        [ 14.849, 127.933],\n",
       "        [ 14.818, 128.018],\n",
       "        [ 14.716, 128.147],\n",
       "        [ 14.518, 128.428],\n",
       "        [ 14.152, 128.785],\n",
       "        [ 13.824, 129.141],\n",
       "        [ 13.632, 129.529]],\n",
       "  mask=False,\n",
       "  fill_value=1e+20)"
      ]
     },
     "metadata": {},
     "output_type": "display_data"
    }
   ],
   "source": [
    "latitude = lat.reshape(nProf,1)\n",
    "longitude = lon.reshape(nProf,1)\n",
    "coords = ma.concatenate([latitude, longitude],axis=1)\n",
    "display(coords)"
   ]
  },
  {
   "cell_type": "code",
   "execution_count": 34,
   "metadata": {},
   "outputs": [],
   "source": [
    "argoTraj_line = Polyline(\n",
    "    locations=coords.tolist(),\n",
    "    color=\"black\" ,\n",
    "    fill=False,\n",
    "    weight=3\n",
    ")"
   ]
  },
  {
   "cell_type": "code",
   "execution_count": 35,
   "metadata": {},
   "outputs": [
    {
     "data": {
      "application/vnd.jupyter.widget-view+json": {
       "model_id": "ecacf35fa76e4b0d8e76aaf5b203879d",
       "version_major": 2,
       "version_minor": 0
      },
      "text/plain": [
       "Label(value='')"
      ]
     },
     "metadata": {},
     "output_type": "display_data"
    },
    {
     "data": {
      "application/vnd.jupyter.widget-view+json": {
       "model_id": "c3bfb77ffc7941ad838f33059f33a3a5",
       "version_major": 2,
       "version_minor": 0
      },
      "text/plain": [
       "Map(center=[12.967607843137257, 127.63063725490196], controls=(ZoomControl(options=['position', 'zoom_in_text'…"
      ]
     },
     "metadata": {},
     "output_type": "display_data"
    }
   ],
   "source": [
    "from ipywidgets import Label\n",
    "label = Label()\n",
    "display(label)\n",
    "def handle_interaction(**kwargs):\n",
    "    if kwargs.get('type') == 'mousemove':\n",
    "        m_coords = kwargs.get('coordinates')\n",
    "        m_coords[0] = round(m_coords[0],5)\n",
    "        m_coords[1] = round(m_coords[1],5)\n",
    "        label.value = str(m_coords[0])+'  '+str(m_coords[1])\n",
    "\n",
    "#\n",
    "center = (lat.mean(), lon.mean())\n",
    "m = Map(basemap=basemap_to_tiles(basemaps.Esri.NatGeoWorldMap), center=center, zoom=5)\n",
    "m.add_layer(argoTraj_line);\n",
    "for i in range(0,nProf):\n",
    "    marker = Marker(location = coords[i].tolist(),draggable=False)\n",
    "    marker.title = 'Profile '+str(i+1)+'\\n'+str(date[i])\n",
    "    marker.rise_on_hover = True\n",
    "    marker.icon = AwesomeIcon(name='share',marker_color='beige',icon_color='black',spin=False)\n",
    "    m.add_layer(marker)\n",
    "m.layout.width = '100%'\n",
    "m.layout.height = '500px'\n",
    "m.on_interaction(handle_interaction)\n",
    "m"
   ]
  },
  {
   "cell_type": "code",
   "execution_count": null,
   "metadata": {},
   "outputs": [],
   "source": []
  }
 ],
 "metadata": {
  "kernelspec": {
   "display_name": "Python 3",
   "language": "python",
   "name": "python3"
  },
  "language_info": {
   "codemirror_mode": {
    "name": "ipython",
    "version": 3
   },
   "file_extension": ".py",
   "mimetype": "text/x-python",
   "name": "python",
   "nbconvert_exporter": "python",
   "pygments_lexer": "ipython3",
   "version": "3.8.3"
  }
 },
 "nbformat": 4,
 "nbformat_minor": 4
}
